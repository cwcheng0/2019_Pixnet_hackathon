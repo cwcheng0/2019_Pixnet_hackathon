{
  "nbformat": 4,
  "nbformat_minor": 0,
  "metadata": {
    "colab": {
      "name": "TaoyuanAirport.ipynb",
      "version": "0.3.2",
      "provenance": [],
      "include_colab_link": true
    },
    "kernelspec": {
      "name": "python3",
      "display_name": "Python 3"
    }
  },
  "cells": [
    {
      "cell_type": "markdown",
      "metadata": {
        "id": "view-in-github",
        "colab_type": "text"
      },
      "source": [
        "<a href=\"https://colab.research.google.com/github/cwcheng0/2019_Pixnet_hackathon/blob/master/TaoyuanAirport.ipynb\" target=\"_parent\"><img src=\"https://colab.research.google.com/assets/colab-badge.svg\" alt=\"Open In Colab\"/></a>"
      ]
    },
    {
      "cell_type": "code",
      "metadata": {
        "id": "sPp3T6LsPcJQ",
        "colab_type": "code",
        "colab": {}
      },
      "source": [
        "## Read from Google\n",
        "import pandas as pd\n",
        "import numpy as np\n",
        "from sklearn.model_selection import train_test_split\n",
        "from sklearn.ensemble import RandomForestClassifier\n",
        "from sklearn.metrics import confusion_matrix\n",
        "from sklearn.metrics import roc_curve\n",
        "from sklearn.metrics import mean_absolute_error as MAE\n",
        "import gc\n",
        "import matplotlib\n",
        "import matplotlib.pyplot as plt\n",
        "from IPython.display import display, HTML"
      ],
      "execution_count": 0,
      "outputs": []
    },
    {
      "cell_type": "code",
      "metadata": {
        "id": "rERO-0exQzVo",
        "colab_type": "code",
        "outputId": "9d09f9f1-ac73-4b8a-89ae-a619805ca447",
        "colab": {
          "base_uri": "https://localhost:8080/",
          "height": 34
        }
      },
      "source": [
        "# Mount personal Google Drive; all data files are in personal Google Drive\n",
        "# account: My main account @ Gmail\n",
        "from google.colab import drive\n",
        "drive.mount('/content/gdrive')"
      ],
      "execution_count": 0,
      "outputs": [
        {
          "output_type": "stream",
          "text": [
            "Drive already mounted at /content/gdrive; to attempt to forcibly remount, call drive.mount(\"/content/gdrive\", force_remount=True).\n"
          ],
          "name": "stdout"
        }
      ]
    },
    {
      "cell_type": "code",
      "metadata": {
        "id": "0W0p7AHEPfhp",
        "colab_type": "code",
        "colab": {}
      },
      "source": [
        "# Use PDrive function\n",
        "!pip install -U -q PyDrive\n",
        "\n",
        "from pydrive.auth import GoogleAuth\n",
        "from pydrive.drive import GoogleDrive\n",
        "from google.colab import auth\n",
        "from oauth2client.client import GoogleCredentials\n",
        "\n",
        "# Authenticate and create the PyDrive client.\n",
        "auth.authenticate_user()\n",
        "gauth = GoogleAuth()\n",
        "gauth.credentials = GoogleCredentials.get_application_default()\n",
        "drive = GoogleDrive(gauth)"
      ],
      "execution_count": 0,
      "outputs": []
    },
    {
      "cell_type": "code",
      "metadata": {
        "id": "wpGtFcZiPftH",
        "colab_type": "code",
        "outputId": "45424b6d-f202-479c-8cfb-23e600171e8a",
        "colab": {
          "base_uri": "https://localhost:8080/",
          "height": 134
        }
      },
      "source": [
        "# List files in root directory\n",
        "file_list = drive.ListFile({'q': \"'root' in parents and trashed=false\"}).GetList()\n",
        "for file1 in file_list:\n",
        "  print('title: %s, id: %s' % (file1['title'], file1['id']))"
      ],
      "execution_count": 0,
      "outputs": [
        {
          "output_type": "stream",
          "text": [
            "title: PixnetData, id: 1zpLvHPbjbntAGzNfhYeQKo4I5PtIXmVw\n",
            "title: Pixnet整理_Mike_20190804, id: 163PlI9NvQ5wVl62z6Crp4jihVWA4nnABRnPS8tU9neY\n",
            "title: Tourism, id: 1rl2L8Vxmj4mqqFNCa23NUaypbVKazJRD\n",
            "title: Python, id: 1dFGhOQOJ9t5x5bJUph24v_N-mnmBKsMZ\n",
            "title: LionData, id: 192h03HmhseVUECi1YL9BAH44nzOAOl99\n",
            "title: Colab Notebooks, id: 13yubYLLF_3_MObjXoj-K2aGo-_UFoQZo\n",
            "title: bnbdata, id: 1yWUzpFHcZDftSVqbCaepJVd9oGsm2pww\n"
          ],
          "name": "stdout"
        }
      ]
    },
    {
      "cell_type": "code",
      "metadata": {
        "id": "mWhuQGqNPfwp",
        "colab_type": "code",
        "outputId": "9323dbc8-73be-4415-c76e-35ae2f2337de",
        "colab": {
          "base_uri": "https://localhost:8080/",
          "height": 34
        }
      },
      "source": [
        "# read data from an existing file to see if a command is correct?\n",
        "f = open(\"/content/gdrive/My Drive/LionData/foo.txt\", \"r\")\n",
        "print(f.read())"
      ],
      "execution_count": 0,
      "outputs": [
        {
          "output_type": "stream",
          "text": [
            "Hello Google Drive!\n"
          ],
          "name": "stdout"
        }
      ]
    },
    {
      "cell_type": "code",
      "metadata": {
        "id": "rRdvo57VPfzp",
        "colab_type": "code",
        "outputId": "a60c30ce-598e-4437-dda0-3bb0e4280cec",
        "colab": {
          "base_uri": "https://localhost:8080/",
          "height": 343
        }
      },
      "source": [
        "# Check first 10 rows in the targeted file.\n",
        "# original URL: https://www.taoyuan-airport.com/chinese/revised_flight\n",
        "\n",
        "import pandas as pd\n",
        "\n",
        "Tdata = pd.read_csv('/content/gdrive/My Drive/PixnetData/MikeData/Taoyuan_20190825.csv')\n",
        "\n",
        "Tdata.head(10)"
      ],
      "execution_count": 0,
      "outputs": [
        {
          "output_type": "execute_result",
          "data": {
            "text/html": [
              "<div>\n",
              "<style scoped>\n",
              "    .dataframe tbody tr th:only-of-type {\n",
              "        vertical-align: middle;\n",
              "    }\n",
              "\n",
              "    .dataframe tbody tr th {\n",
              "        vertical-align: top;\n",
              "    }\n",
              "\n",
              "    .dataframe thead th {\n",
              "        text-align: right;\n",
              "    }\n",
              "</style>\n",
              "<table border=\"1\" class=\"dataframe\">\n",
              "  <thead>\n",
              "    <tr style=\"text-align: right;\">\n",
              "      <th></th>\n",
              "      <th>入出境</th>\n",
              "      <th>表定時間</th>\n",
              "      <th>航空公司</th>\n",
              "      <th>班機編號</th>\n",
              "      <th>往來城市</th>\n",
              "      <th>航廈</th>\n",
              "      <th>登機門</th>\n",
              "      <th>機型</th>\n",
              "      <th>狀態</th>\n",
              "      <th>預計/實際時間</th>\n",
              "    </tr>\n",
              "  </thead>\n",
              "  <tbody>\n",
              "    <tr>\n",
              "      <th>0</th>\n",
              "      <td>出境</td>\n",
              "      <td>09:05:00</td>\n",
              "      <td>國泰航空\\n國泰港龍</td>\n",
              "      <td>CX-403\\nKA-5403</td>\n",
              "      <td>香港</td>\n",
              "      <td>T1</td>\n",
              "      <td>NaN</td>\n",
              "      <td>A330-300</td>\n",
              "      <td>取消</td>\n",
              "      <td>-</td>\n",
              "    </tr>\n",
              "    <tr>\n",
              "      <th>1</th>\n",
              "      <td>入境</td>\n",
              "      <td>10:25:00</td>\n",
              "      <td>廈門航空\\n華信航空</td>\n",
              "      <td>MF-879\\nAE-5108</td>\n",
              "      <td>福州</td>\n",
              "      <td>T2</td>\n",
              "      <td>NaN</td>\n",
              "      <td>-</td>\n",
              "      <td>取消</td>\n",
              "      <td>-</td>\n",
              "    </tr>\n",
              "    <tr>\n",
              "      <th>2</th>\n",
              "      <td>入境</td>\n",
              "      <td>10:25:00</td>\n",
              "      <td>廈門航空\\n華信航空</td>\n",
              "      <td>MF-887\\nAE-5100</td>\n",
              "      <td>廈門</td>\n",
              "      <td>T2</td>\n",
              "      <td>NaN</td>\n",
              "      <td>-</td>\n",
              "      <td>取消</td>\n",
              "      <td>-</td>\n",
              "    </tr>\n",
              "    <tr>\n",
              "      <th>3</th>\n",
              "      <td>入境</td>\n",
              "      <td>10:45:00</td>\n",
              "      <td>廈門航空</td>\n",
              "      <td>MF-859</td>\n",
              "      <td>泉州晉江</td>\n",
              "      <td>T2</td>\n",
              "      <td>NaN</td>\n",
              "      <td>-</td>\n",
              "      <td>取消</td>\n",
              "      <td>-</td>\n",
              "    </tr>\n",
              "    <tr>\n",
              "      <th>4</th>\n",
              "      <td>出境</td>\n",
              "      <td>11:25:00</td>\n",
              "      <td>廈門航空\\n華信航空</td>\n",
              "      <td>MF-880\\nAE-5109</td>\n",
              "      <td>福州</td>\n",
              "      <td>T2</td>\n",
              "      <td>NaN</td>\n",
              "      <td>-</td>\n",
              "      <td>取消</td>\n",
              "      <td>-</td>\n",
              "    </tr>\n",
              "    <tr>\n",
              "      <th>5</th>\n",
              "      <td>出境</td>\n",
              "      <td>11:25:00</td>\n",
              "      <td>廈門航空\\n華信航空</td>\n",
              "      <td>MF-888\\nAE-5101</td>\n",
              "      <td>廈門</td>\n",
              "      <td>T2</td>\n",
              "      <td>NaN</td>\n",
              "      <td>-</td>\n",
              "      <td>取消</td>\n",
              "      <td>-</td>\n",
              "    </tr>\n",
              "    <tr>\n",
              "      <th>6</th>\n",
              "      <td>出境</td>\n",
              "      <td>11:45:00</td>\n",
              "      <td>廈門航空</td>\n",
              "      <td>MF-860</td>\n",
              "      <td>泉州晉江</td>\n",
              "      <td>T2</td>\n",
              "      <td>NaN</td>\n",
              "      <td>-</td>\n",
              "      <td>取消</td>\n",
              "      <td>-</td>\n",
              "    </tr>\n",
              "    <tr>\n",
              "      <th>7</th>\n",
              "      <td>入境</td>\n",
              "      <td>12:15:00</td>\n",
              "      <td>馬印航空</td>\n",
              "      <td>OD-632</td>\n",
              "      <td>吉隆坡</td>\n",
              "      <td>T1</td>\n",
              "      <td>A3</td>\n",
              "      <td>B737-900</td>\n",
              "      <td>預計</td>\n",
              "      <td>13:24:00</td>\n",
              "    </tr>\n",
              "    <tr>\n",
              "      <th>8</th>\n",
              "      <td>入境</td>\n",
              "      <td>12:25:00</td>\n",
              "      <td>國泰航空\\n國泰港龍</td>\n",
              "      <td>CX-494\\nKA-5494</td>\n",
              "      <td>香港</td>\n",
              "      <td>T1</td>\n",
              "      <td>B6</td>\n",
              "      <td>A330-300</td>\n",
              "      <td>預計</td>\n",
              "      <td>13:00:00</td>\n",
              "    </tr>\n",
              "    <tr>\n",
              "      <th>9</th>\n",
              "      <td>入境</td>\n",
              "      <td>12:30:00</td>\n",
              "      <td>中華航空\\n日本航空\\n馬來西亞\\n達美航空</td>\n",
              "      <td>CI-121\\nJL-5133\\nMH-5597\\nDL-7747</td>\n",
              "      <td>琉球(沖繩)</td>\n",
              "      <td>T2</td>\n",
              "      <td>D4</td>\n",
              "      <td>B747-400</td>\n",
              "      <td>預計</td>\n",
              "      <td>13:02:00</td>\n",
              "    </tr>\n",
              "  </tbody>\n",
              "</table>\n",
              "</div>"
            ],
            "text/plain": [
              "  入出境      表定時間                    航空公司  ...        機型  狀態   預計/實際時間\n",
              "0  出境  09:05:00              國泰航空\\n國泰港龍  ...  A330-300  取消         -\n",
              "1  入境  10:25:00              廈門航空\\n華信航空  ...         -  取消         -\n",
              "2  入境  10:25:00              廈門航空\\n華信航空  ...         -  取消         -\n",
              "3  入境  10:45:00                    廈門航空  ...         -  取消         -\n",
              "4  出境  11:25:00              廈門航空\\n華信航空  ...         -  取消         -\n",
              "5  出境  11:25:00              廈門航空\\n華信航空  ...         -  取消         -\n",
              "6  出境  11:45:00                    廈門航空  ...         -  取消         -\n",
              "7  入境  12:15:00                    馬印航空  ...  B737-900  預計  13:24:00\n",
              "8  入境  12:25:00              國泰航空\\n國泰港龍  ...  A330-300  預計  13:00:00\n",
              "9  入境  12:30:00  中華航空\\n日本航空\\n馬來西亞\\n達美航空  ...  B747-400  預計  13:02:00\n",
              "\n",
              "[10 rows x 10 columns]"
            ]
          },
          "metadata": {
            "tags": []
          },
          "execution_count": 73
        }
      ]
    },
    {
      "cell_type": "code",
      "metadata": {
        "id": "jaifvcmFPf2b",
        "colab_type": "code",
        "outputId": "e36b2575-c270-4094-8ed0-1c4bd37026b3",
        "colab": {
          "base_uri": "https://localhost:8080/",
          "height": 254
        }
      },
      "source": [
        "# List all airplanes if it is cancelled.\n",
        "\n",
        "Tdata2 = Tdata[Tdata['狀態'].str.contains(\"取消\")] \n",
        "\n",
        "Tdata2"
      ],
      "execution_count": 83,
      "outputs": [
        {
          "output_type": "execute_result",
          "data": {
            "text/html": [
              "<div>\n",
              "<style scoped>\n",
              "    .dataframe tbody tr th:only-of-type {\n",
              "        vertical-align: middle;\n",
              "    }\n",
              "\n",
              "    .dataframe tbody tr th {\n",
              "        vertical-align: top;\n",
              "    }\n",
              "\n",
              "    .dataframe thead th {\n",
              "        text-align: right;\n",
              "    }\n",
              "</style>\n",
              "<table border=\"1\" class=\"dataframe\">\n",
              "  <thead>\n",
              "    <tr style=\"text-align: right;\">\n",
              "      <th></th>\n",
              "      <th>入出境</th>\n",
              "      <th>表定時間</th>\n",
              "      <th>航空公司</th>\n",
              "      <th>班機編號</th>\n",
              "      <th>往來城市</th>\n",
              "      <th>航廈</th>\n",
              "      <th>登機門</th>\n",
              "      <th>機型</th>\n",
              "      <th>狀態</th>\n",
              "      <th>預計/實際時間</th>\n",
              "    </tr>\n",
              "  </thead>\n",
              "  <tbody>\n",
              "    <tr>\n",
              "      <th>0</th>\n",
              "      <td>出境</td>\n",
              "      <td>09:05:00</td>\n",
              "      <td>國泰航空\\n國泰港龍</td>\n",
              "      <td>CX-403\\nKA-5403</td>\n",
              "      <td>香港</td>\n",
              "      <td>T1</td>\n",
              "      <td>NaN</td>\n",
              "      <td>A330-300</td>\n",
              "      <td>取消</td>\n",
              "      <td>-</td>\n",
              "    </tr>\n",
              "    <tr>\n",
              "      <th>1</th>\n",
              "      <td>入境</td>\n",
              "      <td>10:25:00</td>\n",
              "      <td>廈門航空\\n華信航空</td>\n",
              "      <td>MF-879\\nAE-5108</td>\n",
              "      <td>福州</td>\n",
              "      <td>T2</td>\n",
              "      <td>NaN</td>\n",
              "      <td>-</td>\n",
              "      <td>取消</td>\n",
              "      <td>-</td>\n",
              "    </tr>\n",
              "    <tr>\n",
              "      <th>2</th>\n",
              "      <td>入境</td>\n",
              "      <td>10:25:00</td>\n",
              "      <td>廈門航空\\n華信航空</td>\n",
              "      <td>MF-887\\nAE-5100</td>\n",
              "      <td>廈門</td>\n",
              "      <td>T2</td>\n",
              "      <td>NaN</td>\n",
              "      <td>-</td>\n",
              "      <td>取消</td>\n",
              "      <td>-</td>\n",
              "    </tr>\n",
              "    <tr>\n",
              "      <th>3</th>\n",
              "      <td>入境</td>\n",
              "      <td>10:45:00</td>\n",
              "      <td>廈門航空</td>\n",
              "      <td>MF-859</td>\n",
              "      <td>泉州晉江</td>\n",
              "      <td>T2</td>\n",
              "      <td>NaN</td>\n",
              "      <td>-</td>\n",
              "      <td>取消</td>\n",
              "      <td>-</td>\n",
              "    </tr>\n",
              "    <tr>\n",
              "      <th>4</th>\n",
              "      <td>出境</td>\n",
              "      <td>11:25:00</td>\n",
              "      <td>廈門航空\\n華信航空</td>\n",
              "      <td>MF-880\\nAE-5109</td>\n",
              "      <td>福州</td>\n",
              "      <td>T2</td>\n",
              "      <td>NaN</td>\n",
              "      <td>-</td>\n",
              "      <td>取消</td>\n",
              "      <td>-</td>\n",
              "    </tr>\n",
              "    <tr>\n",
              "      <th>5</th>\n",
              "      <td>出境</td>\n",
              "      <td>11:25:00</td>\n",
              "      <td>廈門航空\\n華信航空</td>\n",
              "      <td>MF-888\\nAE-5101</td>\n",
              "      <td>廈門</td>\n",
              "      <td>T2</td>\n",
              "      <td>NaN</td>\n",
              "      <td>-</td>\n",
              "      <td>取消</td>\n",
              "      <td>-</td>\n",
              "    </tr>\n",
              "    <tr>\n",
              "      <th>6</th>\n",
              "      <td>出境</td>\n",
              "      <td>11:45:00</td>\n",
              "      <td>廈門航空</td>\n",
              "      <td>MF-860</td>\n",
              "      <td>泉州晉江</td>\n",
              "      <td>T2</td>\n",
              "      <td>NaN</td>\n",
              "      <td>-</td>\n",
              "      <td>取消</td>\n",
              "      <td>-</td>\n",
              "    </tr>\n",
              "  </tbody>\n",
              "</table>\n",
              "</div>"
            ],
            "text/plain": [
              "  入出境      表定時間        航空公司             班機編號  ...  登機門        機型  狀態 預計/實際時間\n",
              "0  出境  09:05:00  國泰航空\\n國泰港龍  CX-403\\nKA-5403  ...  NaN  A330-300  取消       -\n",
              "1  入境  10:25:00  廈門航空\\n華信航空  MF-879\\nAE-5108  ...  NaN         -  取消       -\n",
              "2  入境  10:25:00  廈門航空\\n華信航空  MF-887\\nAE-5100  ...  NaN         -  取消       -\n",
              "3  入境  10:45:00        廈門航空           MF-859  ...  NaN         -  取消       -\n",
              "4  出境  11:25:00  廈門航空\\n華信航空  MF-880\\nAE-5109  ...  NaN         -  取消       -\n",
              "5  出境  11:25:00  廈門航空\\n華信航空  MF-888\\nAE-5101  ...  NaN         -  取消       -\n",
              "6  出境  11:45:00        廈門航空           MF-860  ...  NaN         -  取消       -\n",
              "\n",
              "[7 rows x 10 columns]"
            ]
          },
          "metadata": {
            "tags": []
          },
          "execution_count": 83
        }
      ]
    },
    {
      "cell_type": "code",
      "metadata": {
        "id": "g50oEfB9i3iP",
        "colab_type": "code",
        "outputId": "f96b52e9-5c0d-428d-f20b-7d24e1c1883d",
        "colab": {
          "base_uri": "https://localhost:8080/",
          "height": 269
        }
      },
      "source": [
        ""
      ],
      "execution_count": 0,
      "outputs": [
        {
          "output_type": "stream",
          "text": [
            "\n",
            " \n",
            " \n",
            " \n",
            "  麵包屑  \n",
            " \n",
            "  /麵包屑  \n",
            " \n",
            " \n",
            " \n",
            " \n",
            " \n",
            "  /.row  \n",
            " \n",
            " \n"
          ],
          "name": "stdout"
        }
      ]
    },
    {
      "cell_type": "code",
      "metadata": {
        "id": "S0wCPoaHPecl",
        "colab_type": "code",
        "colab": {}
      },
      "source": [
        ""
      ],
      "execution_count": 0,
      "outputs": []
    },
    {
      "cell_type": "code",
      "metadata": {
        "id": "GEwHRZruPfHF",
        "colab_type": "code",
        "colab": {}
      },
      "source": [
        "# Check first 5 rows in the targeted HK URL\n",
        "import pandas as pd\n",
        "import json\n",
        "Hdata = pd.read_json('https://www.hongkongairport.com/flightinfo-rest/rest/flights?span=1&date=2019-08-25&lang=zh_HK', lines=True)\n",
        "\n",
        "Hdata.head(10)\n"
      ],
      "execution_count": 0,
      "outputs": []
    }
  ]
}